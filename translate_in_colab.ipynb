{
 "cells": [
  {
   "cell_type": "markdown",
   "id": "b105a567",
   "metadata": {},
   "source": [
    "## Run MT Transformer on Google Colab"
   ]
  },
  {
   "cell_type": "code",
   "execution_count": null,
   "id": "ad610433",
   "metadata": {},
   "outputs": [],
   "source": [
    "%%capture\n",
    "!pip install datasets\n",
    "!pip install tokenizers\n",
    "!pip install torchmetrics"
   ]
  },
  {
   "cell_type": "code",
   "execution_count": null,
   "id": "2d83d437",
   "metadata": {},
   "outputs": [],
   "source": [
    "from pathlib import Path\n",
    "from google.colab import drive"
   ]
  },
  {
   "cell_type": "code",
   "execution_count": null,
   "id": "9e88fae80a4cd0d",
   "metadata": {
    "collapsed": false
   },
   "outputs": [],
   "source": [
    "# mount content drive including Google MyDrive\n",
    "drive.mount('/content/drive')"
   ]
  },
  {
   "cell_type": "code",
   "execution_count": null,
   "id": "d6adc3d9",
   "metadata": {},
   "outputs": [],
   "source": [
    "%%capture\n",
    "git_folder_exists = Path('/content/transformer-attention-is-all-you-need-implementation').exists()\n",
    "if git_folder_exists:\n",
    "  !git pull\n",
    "\n",
    "if not git_folder_exists:\n",
    "  !git clone https://github.com/Sciform/transformer-attention-is-all-you-need-implementation.git"
   ]
  },
  {
   "cell_type": "code",
   "execution_count": null,
   "id": "527b25b7",
   "metadata": {},
   "outputs": [],
   "source": [
    "if git_folder_exists:\n",
    "  print(\"Git pull and update repo\")\n",
    "\n",
    "if not git_folder_exists:\n",
    "  print(\"Git clone repo\")"
   ]
  },
  {
   "cell_type": "code",
   "execution_count": null,
   "id": "a05f1a2d",
   "metadata": {},
   "outputs": [],
   "source": [
    "%cd /content/transformer-attention-is-all-you-need-implementation\n",
    "%ls"
   ]
  },
  {
   "cell_type": "code",
   "execution_count": null,
   "id": "0ea90079",
   "metadata": {},
   "outputs": [],
   "source": [
    "import logging\n",
    "\n",
    "logging.basicConfig(level=logging.INFO, \n",
    "                    handlers=[logging.FileHandler(\"logger-file.log\")])\n",
    "\n",
    "from mt_transformer.config.project_config import Config\n",
    "from mt_transformer.inference.tf_inference import TfInference\n",
    "\n",
    "# get project config\n",
    "config = Config()\n",
    "\n",
    "config.INFERENCE['trained_model_epoch'] = 0\n",
    "\n",
    "# set Google MyDrive paths, please make sure that the folders have been created above\n",
    "config.set_dictionary_folder_path(\"../drive/MyDrive/dl_models/mt-transformer/data\")\n",
    "config.set_saved_model_folder_path(\"../drive/MyDrive/dl_models/mt-transformer/saved_model\")\n",
    "\n",
    "# use inference model for translation\n",
    "transformer_trainer = TfInference(config)\n",
    "transformer_trainer.perform_inference()"
   ]
  }
 ],
 "metadata": {
  "kernelspec": {
   "display_name": "Python 3 (ipykernel)",
   "language": "python",
   "name": "python3"
  },
  "language_info": {
   "codemirror_mode": {
    "name": "ipython",
    "version": 3
   },
   "file_extension": ".py",
   "mimetype": "text/x-python",
   "name": "python",
   "nbconvert_exporter": "python",
   "pygments_lexer": "ipython3",
   "version": "3.11.6"
  }
 },
 "nbformat": 4,
 "nbformat_minor": 5
}
