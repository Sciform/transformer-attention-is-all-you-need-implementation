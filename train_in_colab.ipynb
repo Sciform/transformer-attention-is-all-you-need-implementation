{
 "cells": [
  {
   "cell_type": "code",
   "execution_count": null,
   "id": "initial_id",
   "metadata": {
    "ExecuteTime": {
     "start_time": "2023-09-11T17:05:01.744494Z"
    }
   },
   "outputs": [],
   "source": [
    "%load_ext tensorboard"
   ]
  },
  {
   "cell_type": "code",
   "execution_count": null,
   "id": "ad610433",
   "metadata": {},
   "outputs": [],
   "source": [
    "%%capture\n",
    "!pip install datasets\n",
    "!pip install tokenizers\n",
    "!pip install torchmetrics"
   ]
  },
  {
   "cell_type": "code",
   "execution_count": null,
   "id": "9e88fae80a4cd0d",
   "metadata": {
    "collapsed": false
   },
   "outputs": [],
   "source": [
    "from pathlib import Path\n",
    "from google.colab import drive\n",
    "\n",
    "# mount content drive including Google MyDrive\n",
    "drive.mount('/content/drive')"
   ]
  },
  {
   "cell_type": "code",
   "execution_count": null,
   "id": "d6adc3d9",
   "metadata": {},
   "outputs": [],
   "source": [
    "%%capture\n",
    "git_folder_exists = Path('/content/drive/transformer-attention-is-all-you-need-implementation').exists()\n",
    "if git_folder_exists:\n",
    "  !git pull\n",
    "\n",
    "if not git_folder_exists:\n",
    "  !git clone https://github.com/Sciform/transformer-attention-is-all-you-need-implementation.git"
   ]
  },
  {
   "cell_type": "code",
   "execution_count": null,
   "id": "a05f1a2d",
   "metadata": {},
   "outputs": [],
   "source": [
    "%cd /content/transformer-attention-is-all-you-need-implementation\n",
    "%ls"
   ]
  },
  {
   "cell_type": "code",
   "execution_count": null,
   "id": "87e93641",
   "metadata": {},
   "outputs": [],
   "source": [
    "%tensorboard --logdir experiments"
   ]
  },
  {
   "cell_type": "code",
   "execution_count": null,
   "id": "16b0b6cf",
   "metadata": {},
   "outputs": [],
   "source": [
    "# generate the entire folder paths including parent folders (-p) in Google/MyDrive, if they don't exists yet\n",
    "!mkdir -p /content/drive/MyDrive/dl_models/mt-transformer/data\n",
    "!mkdir -p /content/drive/MyDrive/dl_models/mt-transformer/saved_model"
   ]
  },
  {
   "cell_type": "code",
   "execution_count": null,
   "id": "0ea90079",
   "metadata": {},
   "outputs": [],
   "source": [
    "import logging\n",
    "\n",
    "logging.basicConfig(level=logging.INFO, \n",
    "                    handlers=[logging.FileHandler(\"logger-file.log\")])\n",
    "\n",
    "from mt_transformer.config.project_config import Config\n",
    "from mt_transformer.trainer.transformer_trainer import TransformerTrainer\n",
    "\n",
    "# get project config\n",
    "config = Config()\n",
    "\n",
    "config.MODEL['batch_size'] = 12\n",
    "config.MODEL['preload'] = None\n",
    "config.MODEL['num_epochs'] = 1\n",
    "\n",
    "# set Google MyDrive paths, please make sure that the folders have been created above\n",
    "config.__dictionary_folder = \"..//drive/MyDrive/dl_models/mt-transformer/data\"\n",
    "config.__saved_model_folder = \"..//drive/MyDrive/dl_models/mt-transformer/saved_model\"\n",
    "\n",
    "# trans model\n",
    "transformer_trainer = TransformerTrainer(config)\n",
    "transformer_trainer.perform_training()"
   ]
  }
 ],
 "metadata": {
  "kernelspec": {
   "display_name": "Python 3 (ipykernel)",
   "language": "python",
   "name": "python3"
  },
  "language_info": {
   "codemirror_mode": {
    "name": "ipython",
    "version": 3
   },
   "file_extension": ".py",
   "mimetype": "text/x-python",
   "name": "python",
   "nbconvert_exporter": "python",
   "pygments_lexer": "ipython3",
   "version": "3.11.6"
  }
 },
 "nbformat": 4,
 "nbformat_minor": 5
}
