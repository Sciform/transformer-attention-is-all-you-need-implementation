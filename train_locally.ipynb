{
 "cells": [
  {
   "cell_type": "code",
   "execution_count": 1,
   "id": "initial_id",
   "metadata": {
    "ExecuteTime": {
     "start_time": "2023-09-11T17:05:01.744494Z"
    }
   },
   "outputs": [
    {
     "name": "stderr",
     "output_type": "stream",
     "text": [
      "c:\\Users\\ursula.maria\\Sciform\\Transformers\\transformer-attention-is-all-you-need-implementation\\.venv\\Lib\\site-packages\\tqdm\\auto.py:21: TqdmWarning: IProgress not found. Please update jupyter and ipywidgets. See https://ipywidgets.readthedocs.io/en/stable/user_install.html\n",
      "  from .autonotebook import tqdm as notebook_tqdm\n",
      "INFO:datasets:PyTorch version 2.1.2 available.\n"
     ]
    },
    {
     "name": "stdout",
     "output_type": "stream",
     "text": [
      "Start transformer!\n",
      "Processor unit = : cpu\n"
     ]
    },
    {
     "name": "stderr",
     "output_type": "stream",
     "text": [
      "INFO:root:Max length of a sentence in language en is: 309\n",
      "INFO:root:Max length of a sentence in language it is: 274\n"
     ]
    },
    {
     "name": "stdout",
     "output_type": "stream",
     "text": [
      "Configure transformer_model\n",
      "Perform training\n"
     ]
    },
    {
     "name": "stderr",
     "output_type": "stream",
     "text": [
      "Processing Epoch 00:   1%|          | 54/4850 [20:25<32:06:25, 24.10s/it, loss=7.573]"
     ]
    }
   ],
   "source": [
    "import logging\n",
    "\n",
    "logging.basicConfig(level=logging.INFO, \n",
    "                    handlers=[logging.FileHandler(\"logger-file.log\"),\n",
    "                              logging.StreamHandler()])\n",
    "\n",
    "\n",
    "from mt_transformer.config.project_config import Config\n",
    "from mt_transformer.trainer.transformer_trainer import TransformerTrainer\n",
    "\n",
    "# get project config\n",
    "config = Config()\n",
    "\n",
    "config.MODEL['batch_size'] = 6\n",
    "config.MODEL['preload'] = None\n",
    "config.MODEL['num_epochs'] = 30\n",
    "\n",
    "transformer_trainer = TransformerTrainer()\n",
    "transformer_trainer.perform_training(config)"
   ]
  },
  {
   "cell_type": "code",
   "execution_count": null,
   "id": "9e88fae80a4cd0d",
   "metadata": {
    "collapsed": false
   },
   "outputs": [],
   "source": []
  }
 ],
 "metadata": {
  "kernelspec": {
   "display_name": "Python 3 (ipykernel)",
   "language": "python",
   "name": "python3"
  },
  "language_info": {
   "codemirror_mode": {
    "name": "ipython",
    "version": 3
   },
   "file_extension": ".py",
   "mimetype": "text/x-python",
   "name": "python",
   "nbconvert_exporter": "python",
   "pygments_lexer": "ipython3",
   "version": "3.11.6"
  }
 },
 "nbformat": 4,
 "nbformat_minor": 5
}
