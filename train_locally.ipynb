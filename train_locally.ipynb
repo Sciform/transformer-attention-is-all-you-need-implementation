{
 "cells": [
  {
   "cell_type": "code",
   "execution_count": 1,
   "id": "initial_id",
   "metadata": {
    "ExecuteTime": {
     "start_time": "2023-09-11T17:05:01.744494Z"
    }
   },
   "outputs": [
    {
     "name": "stderr",
     "output_type": "stream",
     "text": [
      "c:\\Users\\ursula.maria\\Sciform\\Transformers\\transformer-attention-is-all-you-need-implementation\\.venv\\Lib\\site-packages\\tqdm\\auto.py:21: TqdmWarning: IProgress not found. Please update jupyter and ipywidgets. See https://ipywidgets.readthedocs.io/en/stable/user_install.html\n",
      "  from .autonotebook import tqdm as notebook_tqdm\n"
     ]
    },
    {
     "name": "stdout",
     "output_type": "stream",
     "text": [
      "Start transformer!\n",
      "Using device: cpu\n"
     ]
    },
    {
     "ename": "Exception",
     "evalue": "The system cannot find the path specified. (os error 3)",
     "output_type": "error",
     "traceback": [
      "\u001b[1;31m---------------------------------------------------------------------------\u001b[0m",
      "\u001b[1;31mException\u001b[0m                                 Traceback (most recent call last)",
      "Cell \u001b[1;32mIn[1], line 11\u001b[0m\n\u001b[0;32m      8\u001b[0m \u001b[38;5;28;01mfrom\u001b[39;00m \u001b[38;5;21;01mmt_transformer\u001b[39;00m\u001b[38;5;21;01m.\u001b[39;00m\u001b[38;5;21;01mtrainer\u001b[39;00m\u001b[38;5;21;01m.\u001b[39;00m\u001b[38;5;21;01mtransformer_trainer\u001b[39;00m \u001b[38;5;28;01mimport\u001b[39;00m TransformerTrainer\n\u001b[0;32m     10\u001b[0m transformer_trainer \u001b[38;5;241m=\u001b[39m TransformerTrainer()\n\u001b[1;32m---> 11\u001b[0m \u001b[43mtransformer_trainer\u001b[49m\u001b[38;5;241;43m.\u001b[39;49m\u001b[43mperform_training\u001b[49m\u001b[43m(\u001b[49m\u001b[43mconfig\u001b[49m\u001b[43m)\u001b[49m\n",
      "File \u001b[1;32m~\\Sciform\\Transformers\\transformer-attention-is-all-you-need-implementation\\mt_transformer\\trainer\\transformer_trainer.py:29\u001b[0m, in \u001b[0;36mTransformerTrainer.perform_training\u001b[1;34m(self, config)\u001b[0m\n\u001b[0;32m     26\u001b[0m Path(config[\u001b[38;5;124m'\u001b[39m\u001b[38;5;124msaved_model_folder\u001b[39m\u001b[38;5;124m'\u001b[39m])\u001b[38;5;241m.\u001b[39mmkdir(parents\u001b[38;5;241m=\u001b[39m\u001b[38;5;28;01mTrue\u001b[39;00m, exist_ok\u001b[38;5;241m=\u001b[39m\u001b[38;5;28;01mTrue\u001b[39;00m)\n\u001b[0;32m     28\u001b[0m \u001b[38;5;66;03m# get data loaders and tokenizers\u001b[39;00m\n\u001b[1;32m---> 29\u001b[0m train_dataloader, val_dataloader, tokenizer_src, tokenizer_tgt \u001b[38;5;241m=\u001b[39m \u001b[43mcreate_tokenizers_dataloaders\u001b[49m\u001b[43m(\u001b[49m\u001b[43mconfig\u001b[49m\u001b[43m)\u001b[49m\n\u001b[0;32m     31\u001b[0m transformer_model \u001b[38;5;241m=\u001b[39m get_transformer_model(config, tokenizer_src\u001b[38;5;241m.\u001b[39mget_vocab_size(), tokenizer_tgt\u001b[38;5;241m.\u001b[39mget_vocab_size())\u001b[38;5;241m.\u001b[39mto(device)\n\u001b[0;32m     33\u001b[0m \u001b[38;5;66;03m# get tensorboard writer\u001b[39;00m\n",
      "File \u001b[1;32m~\\Sciform\\Transformers\\transformer-attention-is-all-you-need-implementation\\mt_transformer\\data_handler\\data_loader.py:26\u001b[0m, in \u001b[0;36mcreate_tokenizers_dataloaders\u001b[1;34m(config)\u001b[0m\n\u001b[0;32m     23\u001b[0m ds_raw \u001b[38;5;241m=\u001b[39m get_raw_data_opus_books(config)\n\u001b[0;32m     25\u001b[0m \u001b[38;5;66;03m# create tokenizers\u001b[39;00m\n\u001b[1;32m---> 26\u001b[0m tokenizer_src \u001b[38;5;241m=\u001b[39m \u001b[43mget_or_create_tokenizer\u001b[49m\u001b[43m(\u001b[49m\u001b[43mconfig\u001b[49m\u001b[43m,\u001b[49m\u001b[43m \u001b[49m\u001b[43mds_raw\u001b[49m\u001b[43m,\u001b[49m\u001b[43m \u001b[49m\u001b[43mconfig\u001b[49m\u001b[43m[\u001b[49m\u001b[38;5;124;43m'\u001b[39;49m\u001b[38;5;124;43mlang_src\u001b[39;49m\u001b[38;5;124;43m'\u001b[39;49m\u001b[43m]\u001b[49m\u001b[43m)\u001b[49m\n\u001b[0;32m     27\u001b[0m tokenizer_tgt \u001b[38;5;241m=\u001b[39m get_or_create_tokenizer(config, ds_raw, config[\u001b[38;5;124m'\u001b[39m\u001b[38;5;124mlang_tgt\u001b[39m\u001b[38;5;124m'\u001b[39m])\n\u001b[0;32m     29\u001b[0m \u001b[38;5;66;03m# split into 90% for training and 10% for validation\u001b[39;00m\n",
      "File \u001b[1;32m~\\Sciform\\Transformers\\transformer-attention-is-all-you-need-implementation\\mt_transformer\\data_handler\\data_tokenizer.py:40\u001b[0m, in \u001b[0;36mget_or_create_tokenizer\u001b[1;34m(config, ds_raw, language)\u001b[0m\n\u001b[0;32m     37\u001b[0m     world_level_trainer \u001b[38;5;241m=\u001b[39m WordLevelTrainer(special_tokens\u001b[38;5;241m=\u001b[39m[\u001b[38;5;124m\"\u001b[39m\u001b[38;5;124m[UNK]\u001b[39m\u001b[38;5;124m\"\u001b[39m, \u001b[38;5;124m\"\u001b[39m\u001b[38;5;124m[PAD]\u001b[39m\u001b[38;5;124m\"\u001b[39m, \u001b[38;5;124m\"\u001b[39m\u001b[38;5;124m[SOS]\u001b[39m\u001b[38;5;124m\"\u001b[39m, \u001b[38;5;124m\"\u001b[39m\u001b[38;5;124m[EOS]\u001b[39m\u001b[38;5;124m\"\u001b[39m], min_frequency\u001b[38;5;241m=\u001b[39m\u001b[38;5;241m2\u001b[39m)\n\u001b[0;32m     38\u001b[0m     tokenizer\u001b[38;5;241m.\u001b[39mtrain_from_iterator(get_all_text_sequences_form_dataset_in_language(ds_raw, language),\n\u001b[0;32m     39\u001b[0m                                   trainer\u001b[38;5;241m=\u001b[39mworld_level_trainer)\n\u001b[1;32m---> 40\u001b[0m     \u001b[43mtokenizer\u001b[49m\u001b[38;5;241;43m.\u001b[39;49m\u001b[43msave\u001b[49m\u001b[43m(\u001b[49m\u001b[38;5;28;43mstr\u001b[39;49m\u001b[43m(\u001b[49m\u001b[43mtokenizer_path\u001b[49m\u001b[43m)\u001b[49m\u001b[43m)\u001b[49m\n\u001b[0;32m     41\u001b[0m \u001b[38;5;28;01melse\u001b[39;00m:\n\u001b[0;32m     42\u001b[0m     tokenizer \u001b[38;5;241m=\u001b[39m Tokenizer\u001b[38;5;241m.\u001b[39mfrom_file(\u001b[38;5;28mstr\u001b[39m(tokenizer_path))\n",
      "\u001b[1;31mException\u001b[0m: The system cannot find the path specified. (os error 3)"
     ]
    }
   ],
   "source": [
    "from mt_transformer.config.model_config import get_model_config\n",
    "\n",
    "config = get_model_config()\n",
    "config['batch_size'] = 6\n",
    "config['preload'] = None\n",
    "config['num_epochs'] = 30\n",
    "\n",
    "from mt_transformer.trainer.transformer_trainer import TransformerTrainer\n",
    "\n",
    "transformer_trainer = TransformerTrainer()\n",
    "transformer_trainer.perform_training(config)"
   ]
  },
  {
   "cell_type": "code",
   "execution_count": null,
   "id": "9e88fae80a4cd0d",
   "metadata": {
    "collapsed": false
   },
   "outputs": [],
   "source": []
  }
 ],
 "metadata": {
  "kernelspec": {
   "display_name": "Python 3 (ipykernel)",
   "language": "python",
   "name": "python3"
  },
  "language_info": {
   "codemirror_mode": {
    "name": "ipython",
    "version": 3
   },
   "file_extension": ".py",
   "mimetype": "text/x-python",
   "name": "python",
   "nbconvert_exporter": "python",
   "pygments_lexer": "ipython3",
   "version": "3.11.6"
  }
 },
 "nbformat": 4,
 "nbformat_minor": 5
}
