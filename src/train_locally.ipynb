{
 "cells": [
  {
   "cell_type": "code",
   "execution_count": null,
   "id": "initial_id",
   "metadata": {
    "is_executing": true,
    "ExecuteTime": {
     "start_time": "2023-09-11T17:05:01.744494Z"
    }
   },
   "outputs": [
    {
     "name": "stdout",
     "output_type": "stream",
     "text": [
      "Start transformer!\n",
      "Using device: cpu\n"
     ]
    },
    {
     "name": "stderr",
     "output_type": "stream",
     "text": [
      "Found cached dataset opus_books (C:/Users/ursula.maria/.cache/huggingface/datasets/opus_books/en-it/1.0.0/e8f950a4f32dc39b7f9088908216cd2d7e21ac35f893d04d39eb594746af2daf)\n"
     ]
    }
   ],
   "source": [
    "from src.config.model_config import get_model_config\n",
    "\n",
    "config = get_model_config()\n",
    "config['batch_size'] = 6\n",
    "config['preload'] = None\n",
    "config['num_epochs'] = 30\n",
    "\n",
    "from src.trainer.transformer_trainer import TransformerTrainer\n",
    "\n",
    "transformer_trainer = TransformerTrainer()\n",
    "transformer_trainer.perform_training(config)"
   ]
  },
  {
   "cell_type": "code",
   "execution_count": null,
   "outputs": [],
   "source": [],
   "metadata": {
    "collapsed": false
   },
   "id": "9e88fae80a4cd0d"
  }
 ],
 "metadata": {
  "kernelspec": {
   "display_name": "Python 3 (ipykernel)",
   "language": "python",
   "name": "python3"
  },
  "language_info": {
   "codemirror_mode": {
    "name": "ipython",
    "version": 3
   },
   "file_extension": ".py",
   "mimetype": "text/x-python",
   "name": "python",
   "nbconvert_exporter": "python",
   "pygments_lexer": "ipython3",
   "version": "3.11.4"
  }
 },
 "nbformat": 4,
 "nbformat_minor": 5
}
